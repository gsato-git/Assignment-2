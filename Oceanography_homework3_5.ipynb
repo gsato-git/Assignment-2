{
 "cells": [
  {
   "cell_type": "code",
   "execution_count": 1,
   "id": "2ed1e3f1-fcf8-4530-9c86-e424b7f81682",
   "metadata": {},
   "outputs": [
    {
     "name": "stdout",
     "output_type": "stream",
     "text": [
      "Qb = εσT⁴ₛ(0.39-0.05e^0.5)(1-λn^2)+4εσT³ₛ(Tₛ-Tₐ)   (5.1)ed(T) = 6.108exp[19.85(1-273.16/Tₐ)]  (5.2)\n"
     ]
    }
   ],
   "source": [
    "print(\"Qb = \\u03B5\\u03C3T\\u2074\\u209B(0.39-0.05e^0.5)(1-\\u03BBn^2)+4\\u03B5\\u03C3T\\u00B3\\u209B(T\\u209B-T\\u2090)   (5.1)\")\n",
    "println(\"ed(T) = 6.108exp[19.85(1-273.16/T\\u2090)]  (5.2)\")"
   ]
  },
  {
   "cell_type": "code",
   "execution_count": 4,
   "id": "db74192a-4b0a-47be-a619-8f8cce7c6df2",
   "metadata": {},
   "outputs": [
    {
     "name": "stdout",
     "output_type": "stream",
     "text": [
      "  Net long-wave radiation heat loss Qb for Ts = 0.0°C is 96.33318252086423 W/m^2\n",
      "  Net long-wave radiation heat loss Qb for Ts = 10.0°C is 96.95205805936784 W/m^2\n",
      "  Net long-wave radiation heat loss Qb for Ts = 20.0°C is 89.98934154733527 W/m^2\n",
      "  Net long-wave radiation heat loss Qb for Ts = 30.0°C is 71.59645835575539 W/m^2\n"
     ]
    }
   ],
   "source": [
    "temp=[0,10,20,30]\n",
    "RH = 0.8\n",
    "ε = 0.98\n",
    "σ = 5.67e-8\n",
    "λ = 0.5  \n",
    "n = 0.5 \n",
    "for i in 1:4\n",
    "    Ts = temp[i] + 273.15\n",
    "    Ta = Ts - 1\n",
    "    ed = 6.108*(exp(19.85*(1-273.16/Ta)))\n",
    "    e = RH*ed\n",
    "    Qb = ε*σ*(Ts^4)*(0.39-0.05*(e^(0.5))*(1-λ*(n^2)))+4*ε*σ*(Ts^3)*(Ts - Ta)\n",
    "    println(\"  Net long-wave radiation heat loss Qb for Ts = $(round(Ts-273.15))°C is $Qb W/m^2\")\n",
    "end"
   ]
  },
  {
   "cell_type": "markdown",
   "id": "77270e76-110e-439b-bb7f-f3ab497ee7f4",
   "metadata": {},
   "source": [
    "Since the ed (saturated water vapor pressure) has an exponential term of Ta, if the difference between the Ta and Ts is constant, Qb decreases when Ts increases.\n",
    "This is consistent with the fact that the more water vapor above the sea surface, the more outgoing radiation can be reflected.\n",
    "But I think from 0 to 10 degrees Celsius, this effect is still smaller than the effect that increased temperature causes much outgoing radiation."
   ]
  },
  {
   "cell_type": "code",
   "execution_count": null,
   "id": "c7564ccb-b537-4c7f-8fbe-3e5d97dddfbd",
   "metadata": {},
   "outputs": [],
   "source": []
  }
 ],
 "metadata": {
  "kernelspec": {
   "display_name": "Julia 1.10.2",
   "language": "julia",
   "name": "julia-1.10"
  },
  "language_info": {
   "file_extension": ".jl",
   "mimetype": "application/julia",
   "name": "julia",
   "version": "1.10.2"
  }
 },
 "nbformat": 4,
 "nbformat_minor": 5
}
