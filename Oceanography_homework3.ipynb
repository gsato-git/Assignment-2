{
 "cells": [
  {
   "cell_type": "code",
   "execution_count": 39,
   "id": "6ffa32f0-3ba7-498e-8727-30d00edc1dd8",
   "metadata": {},
   "outputs": [
    {
     "name": "stdout",
     "output_type": "stream",
     "text": [
      "Qs = ρₐcₚCₕV(Tₛ-Tₐ)\n",
      "Qe = ρₐLCₑV(qₛ(Tₛ)-rqₛ(Tₐ))"
     ]
    }
   ],
   "source": [
    "println(\"Qs = \\u03C1\\u2090c\\u209AC\\u2095V(T\\u209B-T\\u2090)\")\n",
    "print(\"Qe = \\u03C1\\u2090LC\\u2091V(q\\u209B(T\\u209B)-rq\\u209B(T\\u2090))\")"
   ]
  },
  {
   "cell_type": "code",
   "execution_count": 7,
   "id": "3285ea4f-a7cf-468d-a3b4-b3c25e7bac5e",
   "metadata": {},
   "outputs": [
    {
     "name": "stdout",
     "output_type": "stream",
     "text": [
      "Qs = 39.797999999999995 W/m^2,  Qe = 161.55126763166348 W/m^2"
     ]
    }
   ],
   "source": [
    "Ts = 20\n",
    "Ta = 17\n",
    "ess = 10^((0.7859+0.03477*Ts)/(1+0.00412Ts))\n",
    "esa = 10^((0.7859+0.03477*Ta)/(1+0.00412Ta))\n",
    "qss = (0.622*ess/1013)/(1-0.378*ess/1013)\n",
    "qsa = (0.622*esa/1013)/(1-0.378*esa/1013)\n",
    "\n",
    "Qs = (1.2*(10^(-3))*10^(3))*(1.005*10^3)*(1.1*10^(-3))*10*(Ts-Ta)\n",
    "Qe = (1.2*(10^(-3))*10^(3))*(2.501*10^6)*(1.1*10^(-3))*10*(qss-0.8*qsa)\n",
    "print(\"Qs = \",Qs,\" W/m^2,\", \"  Qe = \",Qe,\" W/m^2\")"
   ]
  },
  {
   "cell_type": "code",
   "execution_count": null,
   "id": "2d488fbd-b435-42cf-9f18-261b7a28b619",
   "metadata": {},
   "outputs": [],
   "source": []
  }
 ],
 "metadata": {
  "kernelspec": {
   "display_name": "Julia 1.10.2",
   "language": "julia",
   "name": "julia-1.10"
  },
  "language_info": {
   "file_extension": ".jl",
   "mimetype": "application/julia",
   "name": "julia",
   "version": "1.10.2"
  }
 },
 "nbformat": 4,
 "nbformat_minor": 5
}
